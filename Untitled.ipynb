{
 "cells": [
  {
   "cell_type": "code",
   "execution_count": 2,
   "id": "0840284a",
   "metadata": {},
   "outputs": [
    {
     "name": "stdout",
     "output_type": "stream",
     "text": [
      "Enter the year: 2024\n",
      "Monday 53\n",
      "Tuesday 53\n",
      "Wednesday 52\n",
      "Thursday 52\n",
      "Friday 52\n",
      "Saturday 52\n",
      "Sunday 52\n",
      "Enter the month: 05\n",
      "      May 2024\n",
      "Mo Tu We Th Fr Sa Su\n",
      "       1  2  3  4  5\n",
      " 6  7  8  9 10 11 12\n",
      "13 14 15 16 17 18 19\n",
      "20 21 22 23 24 25 26\n",
      "27 28 29 30 31\n",
      "\n"
     ]
    }
   ],
   "source": [
    "import datetime \n",
    "import calendar\n",
    "\n",
    "def day_occur_time(year):\n",
    "\n",
    "\tdays = [ \"Monday\", \"Tuesday\", \"Wednesday\", \n",
    "\t\t\"Thursday\", \"Friday\", \"Saturday\", \n",
    "\t\t\"Sunday\" ]\n",
    "\t\n",
    "\tL = [52 for i in range(7)]\n",
    "\t\n",
    "\tpos = -1\n",
    "\tday = datetime.datetime(year, month = 1, day = 1).strftime(\"%A\")\n",
    "\tfor i in range(7):\n",
    "\t\tif day == days[i]:\n",
    "\t\t\tpos = i\n",
    "\t\t\t\n",
    "\tif calendar.isleap(year):\n",
    "\t\tL[pos] += 1\n",
    "\t\tL[(pos+1)%7] += 1\n",
    "\t\t\n",
    "\telse:\n",
    "\t\tL[pos] += 1\n",
    "\t\t\n",
    "\tfor i in range(7):\n",
    "\t\tprint(days[i], L[i])\n",
    "\t\n",
    "year = int(input(\"Enter the year: \"))\n",
    "day_occur_time(year)\n",
    "month = int(input(\"Enter the month: \"))\n",
    "print(calendar.month(year,month))"
   ]
  },
  {
   "cell_type": "code",
   "execution_count": null,
   "id": "b8f8618f",
   "metadata": {},
   "outputs": [],
   "source": []
  }
 ],
 "metadata": {
  "kernelspec": {
   "display_name": "Python 3 (ipykernel)",
   "language": "python",
   "name": "python3"
  },
  "language_info": {
   "codemirror_mode": {
    "name": "ipython",
    "version": 3
   },
   "file_extension": ".py",
   "mimetype": "text/x-python",
   "name": "python",
   "nbconvert_exporter": "python",
   "pygments_lexer": "ipython3",
   "version": "3.10.9"
  }
 },
 "nbformat": 4,
 "nbformat_minor": 5
}
